{
 "cells": [
  {
   "cell_type": "markdown",
   "metadata": {},
   "source": [
    "# Discrete sampling\n",
    "In the last problem of the first session we sampled with given probabilities using prefix sums and binary search. The sampling code is the bottleneck of the whole process, its running times is 3 times higher than the code for uniform probabilities, and the difference would only increase for larger number of outcomes. In the next two problems we discuss two simple, but powerful techniques one can use to sample in time $O(1)$."
   ]
  },
  {
   "cell_type": "markdown",
   "metadata": {},
   "source": [
    "**Problem 2a.** Consider the problem of sampling with known probabilities $p_1,\\ldots,p_d$. Suppose that you have a black-box that samples with probabilities $q_1,\\ldots,q_d$ that are close to $p_1,\\ldots,p_d$, say\n",
    "$$ \\forall_{i=1,\\ldots,n} p_i \\le (1+\\varepsilon)q_i.$$\n",
    "\n",
    "* How can you use this black-box to sample with probabilities $p_1,\\ldots,p_d$? It is expected, that the running time of the algorithm would be non-deterministic.\n",
    "* Prove that your algorithm is correct.\n",
    "* Implement the algorithm and use it to give a faster implementation for **Problem 1c**."
   ]
  },
  {
   "cell_type": "code",
   "execution_count": 140,
   "metadata": {
    "collapsed": false
   },
   "outputs": [
    {
     "name": "stdout",
     "output_type": "stream",
     "text": [
      "212915\n"
     ]
    },
    {
     "data": {
      "image/png": "[encoded data removed]",
      "text/plain": [
       "<matplotlib.figure.Figure at 0x2882d0558d0>"
      ]
     },
     "metadata": {},
     "output_type": "display_data"
    },
    {
     "name": "stdout",
     "output_type": "stream",
     "text": [
      "Wall time: 10.1 s\n"
     ]
    }
   ],
   "source": [
    "%%time\n",
    "\n",
    "%matplotlib inline\n",
    "import math\n",
    "import random\n",
    "import matplotlib.pyplot as plt\n",
    "import numpy as np\n",
    "import bisect\n",
    "\n",
    "stats = np.loadtxt('us_births_69_88.csv', skiprows = 1, delimiter=',', dtype = int)\n",
    "\n",
    "maxi = max(stats[:,2])\n",
    "print(maxi)\n",
    "\n",
    "def funkcja(v, tab):\n",
    "    tab = [0 for i in range(0, v + 1)]\n",
    "    k = 0\n",
    "    while True:\n",
    "        p = random.randint(0, v - 1)\n",
    "        q = random.randint(0, maxi)\n",
    "        if stats[p][2] >= q:\n",
    "            #return p\n",
    "            i = p;\n",
    "            tab[i] = tab[i] + 1\n",
    "            if tab[i] > 1:\n",
    "                return k\n",
    "            k = k + 1\n",
    "    return -1\n",
    "\n",
    "v = len(stats)\n",
    "tab = [0 for i in range(0, v + 1)]\n",
    "tab2 = [funkcja(v, tab) for i in range(100000)]\n",
    "\n",
    "plt.hist(tab2, bins=30)\n",
    "plt.show()\n",
    "\n",
    "# ilość kroków aż będzie dana data\n",
    "# samplować ale od dni a nie kiedy pierwsze wystąpienie\n"
   ]
  },
  {
   "cell_type": "markdown",
   "metadata": {},
   "source": [
    "**Problem 2b.** One of the reasons this implementation is not significantly faster than the one in **Problem 1c** , apart from $d$ being rather small, is that we are using Python's interpreter a bit too much, and Python is slow. One way around this is usually to use a library function - **searchsorted** is much faster than an equivalent code implemented in pure Python. But even if the functionality you need is not implemented in a lower level language as\n",
    "a library function, there is still hope. You can try to implement it using optimized array algebra, for example using **numpy**. In this problem, your task is to rewrite the previous algorithm, so that the amount of *looping* is reduced to a minimum necessary. In particular, you should create a *vectorized* version of random dates generation (in bulk), while the actual search for duplicates remains a loop with a **set**. Here are some useful tips:\n",
    "   * You can perform arithmetic, comparisons, etc. on **numpy** arrays.\n",
    "   * You can generate whole **numpy** arrays of random numbers at once.\n",
    "   * You can even perform parallel look-up like in the example below."
   ]
  },
  {
   "cell_type": "code",
   "execution_count": 21,
   "metadata": {
    "collapsed": false
   },
   "outputs": [
    {
     "name": "stdout",
     "output_type": "stream",
     "text": [
      "[ 38 247  43 ..., 367 272  13]\n"
     ]
    },
    {
     "data": {
      "image/png": "[encoded data removed]",
      "text/plain": [
       "<matplotlib.figure.Figure at 0x211bc275390>"
      ]
     },
     "metadata": {},
     "output_type": "display_data"
    },
    {
     "name": "stdout",
     "output_type": "stream",
     "text": [
      "Wall time: 3.15 s\n"
     ]
    }
   ],
   "source": [
    "\n",
    "%%time\n",
    "\n",
    "%matplotlib inline\n",
    "import math\n",
    "import random\n",
    "import matplotlib.pyplot as plt\n",
    "import numpy as np\n",
    "import bisect\n",
    "\n",
    "# saplowanie (tu: ile razy dany dzień się powtórzył)\n",
    "# średnia ilość ile razy dzień się powtórzył\n",
    "\n",
    "#X = np.array([10,3,7])\n",
    "#I = np.array([1,1,2,2])\n",
    "#print(X[I])\n",
    "#X = np.array([[1,2],[3,4]])\n",
    "#I = np.array([0,0,1])\n",
    "#J = np.array([1,0,1])\n",
    "#print(X[I,J])\n",
    "\n",
    "stats = np.loadtxt('us_births_69_88.csv', skiprows = 1, delimiter=',', dtype = int)\n",
    "\n",
    "maxi = max(stats[:,2])\n",
    "#print(maxi)\n",
    "\n",
    "N = 30000000\n",
    "v = len(stats)\n",
    "\n",
    "tabb = np.random.randint(0, v, N)\n",
    "OK = np.random.randint(1, maxi + 1, N) <= stats[tabb, 2]\n",
    "tabb = tabb[OK]\n",
    "print(tabb)\n",
    "\n",
    "k = 0\n",
    "\n",
    "def funkcja(v, tab):\n",
    "    global k\n",
    "    start = k\n",
    "    tab = [0 for i in range(0, v + 1)]\n",
    "    while True:\n",
    "        tab[tabb[k]] = tab[tabb[k]] + 1\n",
    "        if tab[tabb[k]] > 1:\n",
    "            return k - start\n",
    "        k = k + 1\n",
    "    return -1\n",
    "\n",
    "v = len(stats)\n",
    "tab = [0 for i in range(0, v + 1)]\n",
    "tab2 = [funkcja(v, tab) for i in range(100000)]\n",
    "    \n",
    "\n",
    "plt.hist(tab2, bins=30)\n",
    "plt.show()\n",
    "\n",
    "# losuj 10k randomów (dni) z rozkładu jednostajnego\n",
    "# druga tablica, czy zaakceptowane dni\n",
    "# wyodrębnia te dni, które są zaakceptowane (mamy wysamplowane dni)\n",
    "\n"
   ]
  },
  {
   "cell_type": "markdown",
   "metadata": {},
   "source": [
    "**Problem 2c (Squaring the histogram).** In this problem, we again want to sample with known probabilities $p_1,\\ldots,p_n$, but this time we make no assumptions on $p_i$. Consider the following algorithm:\n",
    "   * Let $V$ be the mean of $p_i$, i.e. $M=\\frac{1}{n}$.\n",
    "   * Create $n$ buckets, each with volume $V$, put each $p_i$ into a separate bucket.\n",
    "   * Until there exists a bucket $A$ that is not full, find a bucket $B$ that overflows, and trasfer probability from $B$ to $A$ until $A$ is exactly full\n",
    "\n",
    "Show that:\n",
    "   * This algorithm always ends.\n",
    "   * When it ends, each bucket contains pieces of exactly two $p_i$'s.\n",
    "\n",
    "How to use the result of this algorithm to sample with probabilities $p_i$. Argue that your algorithm is correct and implement it. The sampling part should be *vectorized*. Use this algorithm to sample birthdates again, and test its efficiency."
   ]
  },
  {
   "cell_type": "code",
   "execution_count": 31,
   "metadata": {
    "collapsed": false
   },
   "outputs": [
    {
     "data": {
      "image/png": "[encoded data removed]",
      "text/plain": [
       "<matplotlib.figure.Figure at 0x211bd45a128>"
      ]
     },
     "metadata": {},
     "output_type": "display_data"
    },
    {
     "name": "stdout",
     "output_type": "stream",
     "text": [
      "Wall time: 2.54 s\n"
     ]
    }
   ],
   "source": [
    "%%time\n",
    "%matplotlib inline\n",
    "import math\n",
    "import random\n",
    "import matplotlib.pyplot as plt\n",
    "import numpy as np\n",
    "import heapq\n",
    "from operator import itemgetter\n",
    "\n",
    "stats = np.loadtxt('us_births_69_88.csv', skiprows = 1, delimiter=',', dtype = int)\n",
    "dane = stats[:,2]\n",
    "\n",
    "size = dane.size\n",
    "avg = np.average(dane)\n",
    "avg = math.ceil(avg)\n",
    "\n",
    "\"\"\"\n",
    "sum = 0\n",
    "for i in range(len(stats)):\n",
    "    sum += stats[i][2]\n",
    "nieuzyte = (avg * 372) - sum\n",
    "\"\"\"\n",
    "\n",
    "big = []\n",
    "small = []\n",
    "for i in range(size):\n",
    "    if dane[i] > avg:\n",
    "        big.append([dane[i], i])\n",
    "    elif dane[i] <= avg:\n",
    "        small.append([dane[i], i])\n",
    "\n",
    "tab_min = small\n",
    "tab_max = big\n",
    "squared = np.zeros(shape=(size, 3), dtype=int)\n",
    "\n",
    "k = 0\n",
    "for i in range(size):\n",
    "    if k == len(tab_max):\n",
    "        pom = np.array([tab_min[i][0], tab_min[i][1], -1])\n",
    "        squared[i] = pom\n",
    "    else:\n",
    "        pom = np.array([tab_min[i][0], tab_min[i][1], tab_max[k][1]])\n",
    "        squared[i] = pom\n",
    "        tab_max[k][0] -= (avg - tab_min[i][0])\n",
    "        if tab_max[k][0] <= avg:\n",
    "            pom2 = [tab_max[k][0], tab_max[k][1]]\n",
    "            tab_min.append(pom2)\n",
    "            k += 1\n",
    "\n",
    "N = 100000\n",
    "squared2 = squared.tolist()\n",
    "\n",
    "\"\"\"\n",
    "def funkcja():\n",
    "    k = 0\n",
    "    tab = [0 for i in range(size + 1)]\n",
    "    while True:\n",
    "        p = np.random.randint(0, size)\n",
    "        q = np.random.randint(0, avg)\n",
    "        w = squared2[p][0]\n",
    "        if q > w:\n",
    "            tab[squared2[p][2]] += 1\n",
    "            if squared2[p][2] == -1:\n",
    "                k += 1\n",
    "                continue\n",
    "            if tab[squared2[p][2]] > 1:\n",
    "                return k\n",
    "        else:\n",
    "            tab[squared2[p][1]] += 1\n",
    "            if tab[squared2[p][1]] > 1:\n",
    "                return k\n",
    "        k = k + 1\n",
    "\"\"\"\n",
    "\n",
    "tab1 = np.random.randint(0, size, 30 * N).tolist()\n",
    "tab2 = np.random.randint(0, avg, 30 * N).tolist()\n",
    "k = 0\n",
    "\n",
    "def funkcja2():\n",
    "    global k\n",
    "    start = k\n",
    "    tab = [0 for i in range(size + 1)]\n",
    "    while True:\n",
    "        p = tab1[k]\n",
    "        q = tab2[k]\n",
    "        w = squared2[p][0]\n",
    "        if q > w:\n",
    "            tab[squared2[p][2]] += 1\n",
    "            if squared2[p][2] == -1:\n",
    "                k += 1\n",
    "                start += 1\n",
    "                continue\n",
    "            if tab[squared2[p][2]] > 1:\n",
    "                return k - start\n",
    "        else:\n",
    "            tab[squared2[p][1]] += 1\n",
    "            if tab[squared2[p][1]] > 1:\n",
    "                return k - start\n",
    "        k += 1\n",
    "\n",
    "wyniki = [funkcja2() for i in range(N)]\n",
    "\n",
    "plt.hist(wyniki, bins=30)\n",
    "plt.show()\n"
   ]
  },
  {
   "cell_type": "markdown",
   "metadata": {},
   "source": [
    "**Problem 2d.** Show that the frequency histogram for empirical birthday frequencies can actually be computed exactly, and implement your idea. To this end, design a recurence relation using conditional probabilities and use dynamic programming."
   ]
  }
 ],
 "metadata": {
  "anaconda-cloud": {},
  "kernelspec": {
   "display_name": "Python [default]",
   "language": "python",
   "name": "python3"
  },
  "language_info": {
   "codemirror_mode": {
    "name": "ipython",
    "version": 3
   },
   "file_extension": ".py",
   "mimetype": "text/x-python",
   "name": "python",
   "nbconvert_exporter": "python",
   "pygments_lexer": "ipython3",
   "version": "3.5.2"
  }
 },
 "nbformat": 4,
 "nbformat_minor": 1
}
